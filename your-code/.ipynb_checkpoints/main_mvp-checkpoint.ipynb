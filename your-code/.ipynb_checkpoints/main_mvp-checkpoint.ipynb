{
 "cells": [
  {
   "cell_type": "code",
   "execution_count": 1,
   "id": "570818c7-ee5a-4bf8-8e6e-afb1ae9b53d5",
   "metadata": {},
   "outputs": [],
   "source": [
    "# define rooms and items\n",
    "\n",
    "couch = {\"name\": \"couch\", \"type\": \"furniture\"}\n",
    "piano = {\"name\": \"piano\", \"type\": \"furniture\"}\n",
    "queen_bed = {\"name\": \"queen bed\", \"type\": \"furniture\"}\n",
    "double_bed = {\"name\": \"double bed\", \"type\": \"furniture\"}\n",
    "dresser = {\"name\": \"dresser\", \"type\": \"furniture\"}\n",
    "dining_table = {\"name\": \"dining table\", \"type\": \"furniture\"}\n",
    "\n",
    "door_a = {\"name\": \"door a\", \"type\": \"door\"}\n",
    "door_b = {\"name\": \"door b\", \"type\": \"door\"}\n",
    "door_c = {\"name\": \"door c\", \"type\": \"door\"}\n",
    "door_d = {\"name\": \"door d\", \"type\": \"door\"}\n",
    "\n",
    "key_a = {\"name\": \"key for door a\", \"type\": \"key\", \"target\": door_a}\n",
    "key_b = {\"name\": \"key for door b\", \"type\": \"key\", \"target\": door_b}\n",
    "key_c = {\"name\": \"key for door c\", \"type\": \"key\", \"target\": door_c}\n",
    "key_d = {\"name\": \"key for door d\", \"type\": \"key\", \"target\": door_d}\n",
    "\n",
    "game_room = {\"name\": \"game room\", \"type\": \"room\"}\n",
    "bedroom_1 = {\"name\": \"bedroom 1\", \"type\": \"room\"}\n",
    "bedroom_2 = {\"name\": \"bedroom 2\", \"type\": \"room\"}\n",
    "living_room = {\"name\": \"living room\", \"type\": \"room\"}\n",
    "outside = {\"name\": \"outside\"}\n",
    "\n",
    "all_rooms = [game_room, bedroom_1, bedroom_2, living_room, outside]\n",
    "\n",
    "all_doors = [door_a, door_b, door_c, door_d]\n",
    "\n",
    "\n",
    "# define which items/rooms are related\n",
    "object_relations = {\n",
    "    \"game room\": [couch, piano, door_a],\n",
    "    \"piano\": [key_a],\n",
    "    \"bedroom 1\": [queen_bed, door_a, door_b, door_c],\n",
    "    \"queen bed\": [key_b],\n",
    "    \"bedroom 2\": [double_bed, dresser, door_b],\n",
    "    \"double bed\": [key_c],\n",
    "    \"dresser\": [key_d],\n",
    "    \"living room\": [dining_table, door_c, door_d],\n",
    "    \"door a\": [game_room, bedroom_1],\n",
    "    \"door b\": [bedroom_1, bedroom_2],\n",
    "    \"door c\": [bedroom_1, living_room],\n",
    "    \"door d\": [living_room, outside]\n",
    "}\n",
    "\n",
    "# define game state. Do not directly change this dict. game_room means that the player starts in the \"game room\". outside indicates that the final goal of the game is to reach \"outside\" \n",
    "\n",
    "INIT_GAME_STATE = {\n",
    "    \"current_room\": game_room,\n",
    "    \"keys_collected\": [],\n",
    "    \"target_room\": outside \n",
    "}"
   ]
  },
  {
   "cell_type": "code",
   "execution_count": 2,
   "id": "fc3b58e0-111c-4bb5-adec-356cc5ceb279",
   "metadata": {},
   "outputs": [],
   "source": [
    "def linebreak():\n",
    "    \"\"\"\n",
    "    Print a line break\n",
    "    \"\"\"\n",
    "    print(\"\\n\\n\")\n",
    "\n",
    "def start_game():\n",
    "    \"\"\"\n",
    "    Start the scape room game\n",
    "    \"\"\"\n",
    "    print(\"You wake up on a couch and find yourself in a strange house with no windows which you have never been to before. You don't remember why you are here and what had happened before. You feel some unknown danger is approaching and you must get out of the house, NOW!\")\n",
    "    play_room(game_state[\"current_room\"]) #start the game by calling the current room\n",
    "\n",
    "def play_room(room):\n",
    "    \"\"\"\n",
    "    Handles gameplay logic for each room. Play a room. First check if the room being played is the target room.\n",
    "    If it is, the game will end with success. Otherwise, let player either \n",
    "    explore (list all items in this room) or examine an item found here.\n",
    "    \"\"\"\n",
    "    game_state[\"current_room\"] = room   #update the current room in game state\n",
    "\n",
    "    if(game_state[\"current_room\"] == game_state[\"target_room\"]):  #check if player has arrived to the final room\n",
    "        print(\"Congrats! You escaped the room!\")  #end game\n",
    "    else:\n",
    "        print(\"You are now in \" + room[\"name\"]) #if not, display the current room\n",
    "        intended_action = input(\"What would you like to do? Type 'explore' or 'examine'?\").strip() #ask the player what they want to do\n",
    "        if intended_action == \"explore\":  #if explore, list all objects in the room\n",
    "            explore_room(room)\n",
    "            play_room(room)\n",
    "        elif intended_action == \"examine\":  #if examine, ask which item to check\n",
    "            examine_item(input(\"What would you like to examine?\").strip())\n",
    "        else:\n",
    "            print(\"Not sure what you mean. Type 'explore' or 'examine'.\") #if answer is uncorrect, show error message and ask again\n",
    "            play_room(room)\n",
    "        linebreak()\n",
    "\n",
    "def explore_room(room):\n",
    "    \"\"\"\n",
    "    Explore a room. List all items belonging to this room.\n",
    "    \"\"\"\n",
    "    explore_message = \"You explore the room. This is \" + room[\"name\"] + \". You find \" #create a message describing the room\n",
    "    for item in object_relations[room[\"name\"]]: #loop all objects in the room\n",
    "      explore_message += str(item[\"name\"]) + \", \" #add object name and a comma\n",
    "    explore_message = explore_message[:-2]+\".\" #add a period instead at the end of the sentence\n",
    "    print(explore_message)\n",
    "\n",
    "def get_next_room_of_door(door, current_room):  #finds the next room connected to the door\n",
    "    \"\"\"\n",
    "    From object_relations, find the two rooms connected to the given door.\n",
    "    The code makes sure the function correctly identifies the next room in both directions (specially for Door B)\n",
    "    \"\"\"\n",
    "    connected_rooms = object_relations[door[\"name\"]] #retrieves the two rooms connected by this door\n",
    "    return connected_rooms[1] if connected_rooms[0] == current_room else connected_rooms[0] #checks which of the two rooms the player is currently in. If the first room is the current one, then return second. Otherwise, return the first. \n",
    "\n",
    "def examine_item(item_name):\n",
    "    \"\"\"\n",
    "    Examine an item which can be a door or furniture.\n",
    "    First make sure the intended item belongs to the current room.\n",
    "    Then check if the item is a door. Tell player if key hasn't been \n",
    "    collected yet. Otherwise ask player if they want to go to the next\n",
    "    room. If the item is not a door, then check if it contains keys.\n",
    "    Collect the key if found and update the game state. At the end,\n",
    "    play either the current or the next room depending on the game state\n",
    "    to keep playing.\n",
    "    \"\"\"\n",
    "    current_room = game_state[\"current_room\"] #get the current room the player is in\n",
    "    next_room = \"\"   #variable to store the next room\n",
    "    output = None\n",
    "    \n",
    "    for item in object_relations[current_room[\"name\"]]: #loop all objects in the current room\n",
    "        if(item[\"name\"] == item_name):     #check if the object examined is in the room\n",
    "            output = \"You examine \" + item_name + \". \"   \n",
    "            if(item[\"type\"] == \"door\"):    #if the object is a door\n",
    "                have_key = False   #player doesn´t have key\n",
    "                for key in game_state[\"keys_collected\"]:  #check if the player has the correct key in inventory\n",
    "                    if(key[\"target\"] == item):\n",
    "                        have_key = True\n",
    "                if(have_key):   #if the player has key, unlock the door\n",
    "                    output += \"You unlock it with a key you have.\"\n",
    "                    next_room = get_next_room_of_door(item, current_room) #move to next room\n",
    "                else:\n",
    "                    output += \"It is locked but you don't have the key.\"\n",
    "            else:  #if the item is furniture, check if contains a key\n",
    "                if(item[\"name\"] in object_relations and len(object_relations[item[\"name\"]])>0):  #if item exists in object relations, checks if object has anything inside\n",
    "                    item_found = object_relations[item[\"name\"]].pop()  #take-pop the key\n",
    "                    game_state[\"keys_collected\"].append(item_found) #add key to inventory\n",
    "                    output += \"You find \" + item_found[\"name\"] + \".\"\n",
    "                else:\n",
    "                    output += \"There isn't anything interesting about it.\"  #no key found\n",
    "            print(output)\n",
    "            break\n",
    "\n",
    "    if(output is None):  #an error message in case the item was not found in the room\n",
    "        print(\"The item you requested is not found in the current room.\")\n",
    "    \n",
    "    if(next_room and input(\"Do you want to go to the next room? Enter 'yes' or 'no'\").strip() == 'yes'): #if a door was unlocked and the player wants to proceed, move to the next room\n",
    "        play_room(next_room)\n",
    "    else:\n",
    "        play_room(current_room) #stay in the current room, if player doesn´t want to move"
   ]
  },
  {
   "cell_type": "code",
   "execution_count": 3,
   "id": "69070ebf-f075-4b44-8d82-f76234d135a5",
   "metadata": {},
   "outputs": [
    {
     "name": "stdout",
     "output_type": "stream",
     "text": [
      "You wake up on a couch and find yourself in a strange house with no windows which you have never been to before. You don't remember why you are here and what had happened before. You feel some unknown danger is approaching and you must get out of the house, NOW!\n",
      "You are now in game room\n"
     ]
    },
    {
     "name": "stdin",
     "output_type": "stream",
     "text": [
      "What would you like to do? Type 'explore' or 'examine'? examine\n",
      "What would you like to examine? piano\n"
     ]
    },
    {
     "name": "stdout",
     "output_type": "stream",
     "text": [
      "You examine piano. You find key for door a.\n",
      "You are now in game room\n"
     ]
    },
    {
     "name": "stdin",
     "output_type": "stream",
     "text": [
      "What would you like to do? Type 'explore' or 'examine'? examine\n",
      "What would you like to examine? door a\n"
     ]
    },
    {
     "name": "stdout",
     "output_type": "stream",
     "text": [
      "You examine door a. You unlock it with a key you have.\n"
     ]
    },
    {
     "name": "stdin",
     "output_type": "stream",
     "text": [
      "Do you want to go to the next room? Enter 'yes' or 'no' yes\n"
     ]
    },
    {
     "name": "stdout",
     "output_type": "stream",
     "text": [
      "You are now in bedroom 1\n"
     ]
    },
    {
     "name": "stdin",
     "output_type": "stream",
     "text": [
      "What would you like to do? Type 'explore' or 'examine'? examine\n",
      "What would you like to examine? queen bed\n"
     ]
    },
    {
     "name": "stdout",
     "output_type": "stream",
     "text": [
      "You examine queen bed. You find key for door b.\n",
      "You are now in bedroom 1\n"
     ]
    },
    {
     "name": "stdin",
     "output_type": "stream",
     "text": [
      "What would you like to do? Type 'explore' or 'examine'? examine\n",
      "What would you like to examine? door b\n"
     ]
    },
    {
     "name": "stdout",
     "output_type": "stream",
     "text": [
      "You examine door b. You unlock it with a key you have.\n"
     ]
    },
    {
     "name": "stdin",
     "output_type": "stream",
     "text": [
      "Do you want to go to the next room? Enter 'yes' or 'no' yes\n"
     ]
    },
    {
     "name": "stdout",
     "output_type": "stream",
     "text": [
      "You are now in bedroom 2\n"
     ]
    },
    {
     "name": "stdin",
     "output_type": "stream",
     "text": [
      "What would you like to do? Type 'explore' or 'examine'? examine\n",
      "What would you like to examine? dresser\n"
     ]
    },
    {
     "name": "stdout",
     "output_type": "stream",
     "text": [
      "You examine dresser. You find key for door d.\n",
      "You are now in bedroom 2\n"
     ]
    },
    {
     "name": "stdin",
     "output_type": "stream",
     "text": [
      "What would you like to do? Type 'explore' or 'examine'? examine\n",
      "What would you like to examine? double bed\n"
     ]
    },
    {
     "name": "stdout",
     "output_type": "stream",
     "text": [
      "You examine double bed. You find key for door c.\n",
      "You are now in bedroom 2\n"
     ]
    },
    {
     "name": "stdin",
     "output_type": "stream",
     "text": [
      "What would you like to do? Type 'explore' or 'examine'? examine\n",
      "What would you like to examine? door b\n"
     ]
    },
    {
     "name": "stdout",
     "output_type": "stream",
     "text": [
      "You examine door b. You unlock it with a key you have.\n"
     ]
    },
    {
     "name": "stdin",
     "output_type": "stream",
     "text": [
      "Do you want to go to the next room? Enter 'yes' or 'no' yes\n"
     ]
    },
    {
     "name": "stdout",
     "output_type": "stream",
     "text": [
      "You are now in bedroom 1\n"
     ]
    },
    {
     "name": "stdin",
     "output_type": "stream",
     "text": [
      "What would you like to do? Type 'explore' or 'examine'? examine\n",
      "What would you like to examine? door c\n"
     ]
    },
    {
     "name": "stdout",
     "output_type": "stream",
     "text": [
      "You examine door c. You unlock it with a key you have.\n"
     ]
    },
    {
     "name": "stdin",
     "output_type": "stream",
     "text": [
      "Do you want to go to the next room? Enter 'yes' or 'no' yes\n"
     ]
    },
    {
     "name": "stdout",
     "output_type": "stream",
     "text": [
      "You are now in living room\n"
     ]
    },
    {
     "name": "stdin",
     "output_type": "stream",
     "text": [
      "What would you like to do? Type 'explore' or 'examine'? explore\n"
     ]
    },
    {
     "name": "stdout",
     "output_type": "stream",
     "text": [
      "You explore the room. This is living room. You find dining table, door c, door d.\n",
      "You are now in living room\n"
     ]
    },
    {
     "name": "stdin",
     "output_type": "stream",
     "text": [
      "What would you like to do? Type 'explore' or 'examine'? examine\n",
      "What would you like to examine? dining table\n"
     ]
    },
    {
     "name": "stdout",
     "output_type": "stream",
     "text": [
      "You examine dining table. There isn't anything interesting about it.\n",
      "You are now in living room\n"
     ]
    },
    {
     "name": "stdin",
     "output_type": "stream",
     "text": [
      "What would you like to do? Type 'explore' or 'examine'? examine\n",
      "What would you like to examine? door d\n"
     ]
    },
    {
     "name": "stdout",
     "output_type": "stream",
     "text": [
      "You examine door d. You unlock it with a key you have.\n"
     ]
    },
    {
     "name": "stdin",
     "output_type": "stream",
     "text": [
      "Do you want to go to the next room? Enter 'yes' or 'no' yes\n"
     ]
    },
    {
     "name": "stdout",
     "output_type": "stream",
     "text": [
      "Congrats! You escaped the room!\n",
      "\n",
      "\n",
      "\n",
      "\n",
      "\n",
      "\n",
      "\n",
      "\n",
      "\n",
      "\n",
      "\n",
      "\n",
      "\n",
      "\n",
      "\n",
      "\n",
      "\n",
      "\n",
      "\n",
      "\n",
      "\n",
      "\n",
      "\n",
      "\n",
      "\n",
      "\n",
      "\n",
      "\n",
      "\n",
      "\n",
      "\n",
      "\n",
      "\n"
     ]
    }
   ],
   "source": [
    "game_state = INIT_GAME_STATE.copy()\n",
    "\n",
    "start_game()"
   ]
  },
  {
   "cell_type": "code",
   "execution_count": null,
   "id": "b7eb9b71-9bca-42cf-b452-a48962f8ca52",
   "metadata": {},
   "outputs": [],
   "source": []
  }
 ],
 "metadata": {
  "kernelspec": {
   "display_name": "Python 3 (ipykernel)",
   "language": "python",
   "name": "python3"
  },
  "language_info": {
   "codemirror_mode": {
    "name": "ipython",
    "version": 3
   },
   "file_extension": ".py",
   "mimetype": "text/x-python",
   "name": "python",
   "nbconvert_exporter": "python",
   "pygments_lexer": "ipython3",
   "version": "3.13.2"
  }
 },
 "nbformat": 4,
 "nbformat_minor": 5
}
